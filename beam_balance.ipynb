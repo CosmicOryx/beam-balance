{
 "cells": [
  {
   "cell_type": "code",
   "execution_count": 1,
   "id": "65ca38c2",
   "metadata": {},
   "outputs": [],
   "source": [
    "from sympy import symbols\n",
    "from sympy.physics.mechanics import dynamicsymbols"
   ]
  },
  {
   "cell_type": "code",
   "execution_count": 2,
   "id": "d239ec5c",
   "metadata": {},
   "outputs": [
    {
     "data": {
      "text/latex": [
       "$\\displaystyle 0.5 l_{1}^{2} m_{1} \\left(\\frac{d}{d t} \\theta{\\left(t \\right)}\\right)^{2} + 0.5 l_{2}^{2} m_{2} \\left(\\frac{d}{d t} \\theta{\\left(t \\right)}\\right)^{2}$"
      ],
      "text/plain": [
       "0.5*l1**2*m1*Derivative(theta(t), t)**2 + 0.5*l2**2*m2*Derivative(theta(t), t)**2"
      ]
     },
     "execution_count": 2,
     "metadata": {},
     "output_type": "execute_result"
    }
   ],
   "source": [
    "m1, m2, l1, l2 = symbols(\"m1, m2, l1, l2\")\n",
    "theta = dynamicsymbols('theta')\n",
    "\n",
    "# KE\n",
    "v1, v2 = symbols(\"v1, v2\")\n",
    "T = (1/2)*m1*v1**2 + (1/2)*m2*v2**2\n",
    "\n",
    "theta_dot = dynamicsymbols('theta', 1)\n",
    "# v = omega*r = thetad*l\n",
    "T = T.subs({v1:theta_dot*l1, v2:theta_dot*l2})\n",
    "T"
   ]
  },
  {
   "cell_type": "code",
   "execution_count": 3,
   "id": "f79bcc49",
   "metadata": {},
   "outputs": [
    {
     "data": {
      "text/latex": [
       "$\\displaystyle g l_{1} m_{1} \\sin{\\left(\\theta{\\left(t \\right)} \\right)} - g l_{2} m_{2} \\sin{\\left(\\theta{\\left(t \\right)} \\right)}$"
      ],
      "text/plain": [
       "g*l1*m1*sin(theta(t)) - g*l2*m2*sin(theta(t))"
      ]
     },
     "execution_count": 3,
     "metadata": {},
     "output_type": "execute_result"
    }
   ],
   "source": [
    "# PE\n",
    "h1, h2, g = symbols(\"h1, h2, g\")\n",
    "V = m1*g*h1 - m2*g*h2\n",
    "\n",
    "# h = l*sin(theta)\n",
    "from sympy import sin\n",
    "V = V.subs({h1: l1*sin(theta), h2:l2*sin(theta)})\n",
    "V"
   ]
  },
  {
   "cell_type": "code",
   "execution_count": 4,
   "id": "3c607ca6",
   "metadata": {},
   "outputs": [
    {
     "data": {
      "text/latex": [
       "$\\displaystyle - g l_{1} m_{1} \\sin{\\left(\\theta{\\left(t \\right)} \\right)} + g l_{2} m_{2} \\sin{\\left(\\theta{\\left(t \\right)} \\right)} + 0.5 l_{1}^{2} m_{1} \\left(\\frac{d}{d t} \\theta{\\left(t \\right)}\\right)^{2} + 0.5 l_{2}^{2} m_{2} \\left(\\frac{d}{d t} \\theta{\\left(t \\right)}\\right)^{2}$"
      ],
      "text/plain": [
       "-g*l1*m1*sin(theta(t)) + g*l2*m2*sin(theta(t)) + 0.5*l1**2*m1*Derivative(theta(t), t)**2 + 0.5*l2**2*m2*Derivative(theta(t), t)**2"
      ]
     },
     "execution_count": 4,
     "metadata": {},
     "output_type": "execute_result"
    }
   ],
   "source": [
    "# Lagrangian\n",
    "L = T - V\n",
    "L"
   ]
  },
  {
   "cell_type": "code",
   "execution_count": 5,
   "id": "c4c1387d",
   "metadata": {},
   "outputs": [
    {
     "data": {
      "text/latex": [
       "$\\displaystyle g l_{1} m_{1} \\cos{\\left(\\theta{\\left(t \\right)} \\right)} - g l_{2} m_{2} \\cos{\\left(\\theta{\\left(t \\right)} \\right)} + 1.0 \\left(l_{1}^{2} m_{1} + l_{2}^{2} m_{2}\\right) \\frac{d^{2}}{d t^{2}} \\theta{\\left(t \\right)} = 0$"
      ],
      "text/plain": [
       "Eq(g*l1*m1*cos(theta(t)) - g*l2*m2*cos(theta(t)) + 1.0*(l1**2*m1 + l2**2*m2)*Derivative(theta(t), (t, 2)), 0)"
      ]
     },
     "execution_count": 5,
     "metadata": {},
     "output_type": "execute_result"
    }
   ],
   "source": [
    "from sympy.calculus.euler import euler_equations\n",
    "eqn = euler_equations(L, theta,)[0]\n",
    "eqn.simplify()"
   ]
  },
  {
   "cell_type": "code",
   "execution_count": 6,
   "id": "61c4eadc",
   "metadata": {},
   "outputs": [
    {
     "data": {
      "text/latex": [
       "$\\displaystyle \\frac{d^{2}}{d t^{2}} \\theta{\\left(t \\right)} = \\frac{g \\left(- l_{1} m_{1} + l_{2} m_{2}\\right) \\cos{\\left(\\theta{\\left(t \\right)} \\right)}}{l_{1}^{2} m_{1} + l_{2}^{2} m_{2}}$"
      ],
      "text/plain": [
       "Eq(Derivative(theta(t), (t, 2)), g*(-l1*m1 + l2*m2)*cos(theta(t))/(l1**2*m1 + l2**2*m2))"
      ]
     },
     "execution_count": 6,
     "metadata": {},
     "output_type": "execute_result"
    }
   ],
   "source": [
    "from sympy import diff, solve\n",
    "from sympy import Eq\n",
    "\n",
    "y = diff(diff(theta))\n",
    "solution = solve(eqn, y)[0]\n",
    "\n",
    "Eq(y, solution)\n"
   ]
  },
  {
   "cell_type": "code",
   "execution_count": 7,
   "id": "ab994575",
   "metadata": {},
   "outputs": [
    {
     "data": {
      "text/latex": [
       "$\\displaystyle \\frac{d^{2}}{d t^{2}} \\theta{\\left(t \\right)} = - \\delta \\frac{d}{d t} \\theta{\\left(t \\right)} + \\frac{g \\left(- l_{1} m_{1} + l_{2} m_{2}\\right) \\cos{\\left(\\theta{\\left(t \\right)} \\right)}}{l_{1}^{2} m_{1} + l_{2}^{2} m_{2}} - \\mu$"
      ],
      "text/plain": [
       "Eq(Derivative(theta(t), (t, 2)), -delta*Derivative(theta(t), t) + g*(-l1*m1 + l2*m2)*cos(theta(t))/(l1**2*m1 + l2**2*m2) - mu)"
      ]
     },
     "execution_count": 7,
     "metadata": {},
     "output_type": "execute_result"
    }
   ],
   "source": [
    "# Add kinetic and static friction terms\n",
    "# otherwise the solutions would oscillate indefinitely\n",
    "\n",
    "delta, mu = symbols('delta, mu')\n",
    "Eq(y, solution - diff(theta)*delta - mu)"
   ]
  },
  {
   "cell_type": "markdown",
   "id": "e89ca49e",
   "metadata": {},
   "source": [
    "### Solving for theta"
   ]
  },
  {
   "cell_type": "code",
   "execution_count": 28,
   "id": "2b2a44ae",
   "metadata": {},
   "outputs": [],
   "source": [
    "import numpy as np\n",
    "\n",
    "m1, m2 = 1.5, 2.5 # in kilograms\n",
    "l1, l2 = 10/100, 7/100 # in meters\n",
    "g = 9.8\n",
    "delta = 0.45\n",
    "mu = 5.5\n",
    "\n",
    "def theta_double_prime(theta, theta_prime):\n",
    "    term = g*(-l1*m1 + l2*m2)/(l1**2*m1 + l2**2*m2)\n",
    "    result = term*np.cos(theta)\n",
    "    if result.all() != 0:\n",
    "        # add damping and friction\n",
    "        return result - delta*(theta_prime) - mu\n",
    "    else:\n",
    "        # no damping/friction if already in equilibrium\n",
    "        return result\n",
    "\n",
    "from scipy.integrate import solve_ivp\n",
    "\n",
    "def func(t, y):\n",
    "    theta, theta_prime = y\n",
    "    return [theta_prime, theta_double_prime(theta, theta_prime)]\n",
    "\n",
    "def max_turn(t, y):\n",
    "    # if turn is -90, the beam touches ground\n",
    "    # therfore stop integration\n",
    "    return y[0] + np.deg2rad(90)\n",
    "max_turn.terminal = True\n",
    "\n",
    "t_span = [0, 25]\n",
    "y0 = [np.deg2rad(0), 0]  # start theta, theta_prime\n",
    "\n",
    "sol = solve_ivp(func, t_span, y0, events=max_turn)\n",
    "\n",
    "t = sol.t\n",
    "x = sol.y[0,:]"
   ]
  },
  {
   "cell_type": "code",
   "execution_count": 71,
   "id": "c92b6de4",
   "metadata": {},
   "outputs": [],
   "source": [
    "import seaborn as sns\n",
    "sns.set_context(\"paper\", font_scale=2.)\n",
    "sns.set_style('whitegrid')"
   ]
  },
  {
   "cell_type": "code",
   "execution_count": 72,
   "id": "c7e9072d",
   "metadata": {},
   "outputs": [
    {
     "data": {
      "image/png": "[encoded data removed]",
      "text/plain": [
       "<Figure size 360x360 with 1 Axes>"
      ]
     },
     "metadata": {},
     "output_type": "display_data"
    }
   ],
   "source": [
    "plt.figure(figsize=(5, 5))\n",
    "ax = sns.lineplot(x=t, y=np.rad2deg(x).round(0), label=r'$\\theta(t)$') \n",
    "ax.set_xlabel('time')\n",
    "ax.set_ylabel(r'$\\theta$');\n",
    "plt.savefig('angle.png', bbox_inches='tight', dpi=200);"
   ]
  },
  {
   "cell_type": "markdown",
   "id": "fe3fcff9",
   "metadata": {},
   "source": [
    "### Animate beam balance"
   ]
  },
  {
   "cell_type": "code",
   "execution_count": 37,
   "id": "cb0530a9",
   "metadata": {},
   "outputs": [],
   "source": [
    "# Helper functions to rotate mass and points properly\n",
    "def line_rotation(radius, length, angle):\n",
    "    # angle in radians\n",
    "    # returns [x0, x1], [y0, y1] \n",
    "    \n",
    "    x = radius*np.cos(angle)\n",
    "    y = radius*np.sin(angle)\n",
    "    return [[x, x], [y, length + radius*np.sin(angle)]]\n",
    "\n",
    "def point_rotation(x, y, angle):\n",
    "    # angle in radians\n",
    "    return np.array([x*np.cos(angle), y + x*np.sin(angle)])\n",
    "\n",
    "def moments_angled(m1, m2, l1, l2, angle, beam_length=11):\n",
    "    # angle in deg\n",
    "    # total length of beam is assumed to be 22 (twice beam_length)\n",
    "    # and is symmetric along the pivot (0, 0)\n",
    "    # l1 is to the left and should be negative\n",
    "\n",
    "    ptsX = np.linspace(-beam_length, 0, 100)\n",
    "    ptsY = np.linspace(0, beam_length, 100)\n",
    "    \n",
    "    # make nan for distances beyond l1, l2\n",
    "    ptsX[ptsX < l1] = np.nan\n",
    "    ptsY[ptsY > l2] = np.nan\n",
    "    \n",
    "    \n",
    "    # if balance makes angle with pos. x axis, \n",
    "    # the perp. distance from force to origin is \n",
    "    # l1*cos(angle)\n",
    "    # moment = force* perp distance\n",
    "    g = 9.8\n",
    "    left_moments = m1*g*ptsX*np.cos(angle)\n",
    "    right_moments = m2*g*ptsY*np.cos(angle)\n",
    "    \n",
    "    return np.concatenate([left_moments, right_moments])"
   ]
  },
  {
   "cell_type": "code",
   "execution_count": 57,
   "id": "9783d025",
   "metadata": {},
   "outputs": [],
   "source": [
    "import matplotlib.pyplot as plt\n",
    "import matplotlib.lines as mlines\n",
    "import matplotlib.patches as mpatches\n",
    "from matplotlib import transforms\n",
    "\n",
    "\n",
    "def plot_func(i, ax, cax):\n",
    "    \n",
    "#     ax = fig.gca()\n",
    "    angle_rad = x[i]\n",
    "    angle_deg = np.rad2deg(angle_rad)\n",
    "    \n",
    "    left_anchor = -10\n",
    "    right_anchor = 7\n",
    "    rope_length = -8\n",
    "    \n",
    "    right_thread_point = point_rotation(right_anchor, 0, angle_rad)\n",
    "    right_thread_rot = line_rotation(right_anchor, rope_length, angle_rad)\n",
    "    right_weight_rot = point_rotation(right_anchor, rope_length, angle_rad)\n",
    "    left_thread_point = point_rotation(left_anchor, 0, angle_rad)\n",
    "    left_thread_rot = line_rotation(left_anchor, rope_length, angle_rad)\n",
    "    left_weight_rot = point_rotation(left_anchor, rope_length, angle_rad)\n",
    "\n",
    "    artists = [\n",
    "        # beam\n",
    "        mpatches.Rectangle((-11, -1), 22, 2, ec=\"black\", angle=angle_deg, \n",
    "                          rotation_point='center', color='white', zorder=0,),\n",
    "        mpatches.Circle((0, 0), 0.75, ec=\"black\", color='white', zorder=2),\n",
    "                mlines.Line2D([0, 0], [-0.1, 5], lw=4, color='black', zorder=3), \n",
    "\n",
    "        # Left weight\n",
    "        mpatches.Circle(left_thread_point, 0.5, ec=\"black\", color='white', zorder=4), \n",
    "        mpatches.Circle(left_weight_rot, m1, ec=\"black\", color='red', zorder=5),\n",
    "        mlines.Line2D(left_thread_rot[0], left_thread_rot[1], lw=2, color='black', zorder=6),\n",
    "\n",
    "        # right weight\n",
    "        mpatches.Circle(right_thread_point, 0.5, ec=\"black\", color='white', zorder=7), \n",
    "        mpatches.Circle(right_weight_rot, m2, ec=\"black\", color='red', zorder=8),\n",
    "        mlines.Line2D(right_thread_rot[0], right_thread_rot[1], lw=2, color='black', zorder=9),\n",
    "   \n",
    "    ]\n",
    "\n",
    "    for p in artists:\n",
    "        ax.add_artist(p)\n",
    "\n",
    "    ax.annotate(f\"{m1} kg\", xy=left_weight_rot + np.array([1.5, -3]),)\n",
    "    ax.annotate(f\"{m2} kg\", xy=right_weight_rot + np.array([3, -3]),)\n",
    "\n",
    "    # add moments\n",
    "    mo = moments_angled(m1, m2, left_anchor, right_anchor, angle_deg)\n",
    "    tr = transforms.Affine2D().rotate_deg(angle_deg)\n",
    "    im = ax.imshow(np.atleast_2d(mo), extent=[-11,-11+22,-1,-1+2], \n",
    "              aspect=\"auto\", zorder=1, cmap='Spectral_r', vmin=-150,\n",
    "              vmax=150, transform=tr + ax.transData)\n",
    "\n",
    "    \n",
    "    ax.set_ylim([-20, 20])\n",
    "    ax.set_xlim([-20, 20])\n",
    "    sns.despine(offset=10, trim=True)\n",
    "    \n",
    "    # add colour bar\n",
    "    plt.colorbar(im, cax=cax, orientation='horizontal', \n",
    "                 label=r'Moment $(Nm)$', location='top', \n",
    "                 ticks=[-150, 0, 150])\n",
    "    \n",
    "    plt.tight_layout()"
   ]
  },
  {
   "cell_type": "code",
   "execution_count": 74,
   "id": "bce69345",
   "metadata": {},
   "outputs": [
    {
     "name": "stderr",
     "output_type": "stream",
     "text": [
      "/tmp/ipykernel_1450452/1891320127.py:66: UserWarning: This figure includes Axes that are not compatible with tight_layout, so results might be incorrect.\n",
      "  plt.tight_layout()\n"
     ]
    },
    {
     "data": {
      "image/png": "[encoded data removed]",
      "text/plain": [
       "<Figure size 396x360 with 2 Axes>"
      ]
     },
     "metadata": {},
     "output_type": "display_data"
    }
   ],
   "source": [
    "sns.set_context(\"paper\", font_scale=1.5)\n",
    "sns.set_style('ticks')\n",
    "fig, ax = plt.subplots(figsize=(5.5, 5))\n",
    "cbar_ax = fig.add_axes([0.27, 0.8, 0.5, 0.035])\n",
    "plot_func(45, ax, cax=cbar_ax)\n",
    "plt.savefig('beam.png', bbox_inches='tight', dpi=200)"
   ]
  },
  {
   "cell_type": "code",
   "execution_count": null,
   "id": "485e13fb",
   "metadata": {},
   "outputs": [],
   "source": []
  },
  {
   "cell_type": "code",
   "execution_count": 68,
   "id": "7a4cfe46",
   "metadata": {},
   "outputs": [
    {
     "name": "stderr",
     "output_type": "stream",
     "text": [
      "/tmp/ipykernel_1450452/1891320127.py:66: UserWarning: This figure includes Axes that are not compatible with tight_layout, so results might be incorrect.\n",
      "  plt.tight_layout()\n"
     ]
    },
    {
     "name": "stdout",
     "output_type": "stream",
     "text": [
      "68\r"
     ]
    },
    {
     "data": {
      "image/png": "[encoded data removed]",
      "text/plain": [
       "<Figure size 396x360 with 2 Axes>"
      ]
     },
     "metadata": {},
     "output_type": "display_data"
    }
   ],
   "source": [
    "from celluloid import Camera\n",
    "sns.set_context(\"paper\", font_scale=1.5)\n",
    "sns.set_style('ticks')\n",
    "\n",
    "fig, ax = plt.subplots(figsize=(5.5, 5))\n",
    "cbar_ax = fig.add_axes([0.27, 0.8, 0.5, 0.035])\n",
    "\n",
    "camera = Camera(fig)\n",
    "for i in range(0, x.shape[0]-1):\n",
    "    plot_func(i, ax, cbar_ax)\n",
    "    camera.snap();\n",
    "    print(i, end='\\r')\n",
    "animation = camera.animate();"
   ]
  },
  {
   "cell_type": "code",
   "execution_count": 69,
   "id": "93107fda",
   "metadata": {},
   "outputs": [],
   "source": [
    "animation.save('anim_with_moment.mp4', dpi=200)"
   ]
  },
  {
   "cell_type": "markdown",
   "id": "c2c1465c",
   "metadata": {},
   "source": [
    "<video controls src='anim_with_moment.mp4' width='400' height='400'>"
   ]
  },
  {
   "cell_type": "code",
   "execution_count": null,
   "id": "de31402b",
   "metadata": {},
   "outputs": [],
   "source": []
  },
  {
   "cell_type": "code",
   "execution_count": null,
   "id": "56011246",
   "metadata": {},
   "outputs": [],
   "source": []
  },
  {
   "cell_type": "code",
   "execution_count": null,
   "id": "76cd7a2c",
   "metadata": {},
   "outputs": [],
   "source": []
  }
 ],
 "metadata": {
  "kernelspec": {
   "display_name": "Python 3 (ipykernel)",
   "language": "python",
   "name": "python3"
  },
  "language_info": {
   "codemirror_mode": {
    "name": "ipython",
    "version": 3
   },
   "file_extension": ".py",
   "mimetype": "text/x-python",
   "name": "python",
   "nbconvert_exporter": "python",
   "pygments_lexer": "ipython3",
   "version": "3.9.7"
  }
 },
 "nbformat": 4,
 "nbformat_minor": 5
}
